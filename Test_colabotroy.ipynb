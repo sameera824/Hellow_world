{
  "nbformat": 4,
  "nbformat_minor": 0,
  "metadata": {
    "colab": {
      "name": "Test_colabotroy.ipynb",
      "provenance": [],
      "collapsed_sections": [],
      "toc_visible": true,
      "authorship_tag": "ABX9TyOX9h6Z6aTiBNBGkXuFUhDq",
      "include_colab_link": true
    },
    "kernelspec": {
      "name": "python3",
      "display_name": "Python 3"
    },
    "language_info": {
      "name": "python"
    }
  },
  "cells": [
    {
      "cell_type": "markdown",
      "metadata": {
        "id": "view-in-github",
        "colab_type": "text"
      },
      "source": [
        "<a href=\"https://colab.research.google.com/github/sameera824/Hellow_world/blob/master/Test_colabotroy.ipynb\" target=\"_parent\"><img src=\"https://colab.research.google.com/assets/colab-badge.svg\" alt=\"Open In Colab\"/></a>"
      ]
    },
    {
      "cell_type": "markdown",
      "metadata": {
        "id": "12vrwoEQwl3m"
      },
      "source": [
        "# firast colabotory test code"
      ]
    },
    {
      "cell_type": "markdown",
      "metadata": {
        "id": "KEP62mO9wVba"
      },
      "source": [
        "# New Section"
      ]
    }
  ]
}